{
 "cells": [
  {
   "cell_type": "code",
   "execution_count": null,
   "id": "3c6ba711-938d-4611-8407-19afa7c8dcf1",
   "metadata": {},
   "outputs": [],
   "source": [
    "input_text = \"I will by this food for\"\n",
    "input_ids = tokenizer.encode(input_text, return_tensors=\"pt\")"
   ]
  },
  {
   "cell_type": "code",
   "execution_count": 16,
   "id": "0e806bae-0304-4663-9666-47adcdf857e9",
   "metadata": {},
   "outputs": [],
   "source": [
    "import torch\n",
    "import torch.nn as nn\n",
    "from math import sqrt\n",
    "from torch.utils.data import DataLoader, Dataset\n",
    "from transformers import GPT2Tokenizer, GPT2LMHeadModel\n",
    "from datasets import load_dataset\n",
    "from torch.optim import AdamW\n",
    "from torch.optim.lr_scheduler import StepLR\n",
    "\n"
   ]
  },
  {
   "cell_type": "code",
   "execution_count": null,
   "id": "b1342190-a8b1-4c96-850d-a4104c8d697e",
   "metadata": {},
   "outputs": [],
   "source": [
    "tokenizer = GPT2Tokenizer.from_pretrained(\"gpt2\")\n",
    "tokenizer.pad_token = tokenizer.eos_token  # Устанавливаем pad_token"
   ]
  },
  {
   "cell_type": "code",
   "execution_count": 36,
   "id": "2a89ba17-a6c6-4f62-beb2-b44af6f61f2a",
   "metadata": {},
   "outputs": [
    {
     "data": {
      "application/vnd.jupyter.widget-view+json": {
       "model_id": "09475fdefccc42d5933e3779dc2e4342",
       "version_major": 2,
       "version_minor": 0
      },
      "text/plain": [
       "Generating test split:   0%|          | 0/4358 [00:00<?, ? examples/s]"
      ]
     },
     "metadata": {},
     "output_type": "display_data"
    },
    {
     "data": {
      "application/vnd.jupyter.widget-view+json": {
       "model_id": "ad5ccb8a71d544a98bd252b25cbcacf5",
       "version_major": 2,
       "version_minor": 0
      },
      "text/plain": [
       "Generating train split:   0%|          | 0/36718 [00:00<?, ? examples/s]"
      ]
     },
     "metadata": {},
     "output_type": "display_data"
    },
    {
     "data": {
      "application/vnd.jupyter.widget-view+json": {
       "model_id": "02890ea68c16465faaaef48fa8101ab5",
       "version_major": 2,
       "version_minor": 0
      },
      "text/plain": [
       "Generating validation split:   0%|          | 0/3760 [00:00<?, ? examples/s]"
      ]
     },
     "metadata": {},
     "output_type": "display_data"
    }
   ],
   "source": [
    "# Загрузка датасета\n",
    "dataset = load_dataset(\"wikitext\", \"wikitext-2-raw-v1\", cache_dir=\"../data/raw\")\n",
    "\n",
    "# Предобработка данных\n",
    "class WikiTextDataset(Dataset):\n",
    "    def __init__(self, dataset, tokenizer, max_length=64):\n",
    "        self.dataset = dataset\n",
    "        self.tokenizer = tokenizer\n",
    "        self.max_length = max_length\n",
    "        # Фильтрация пустых текстов\n",
    "        self.data = [item for item in dataset if item['text'].strip()]\n",
    "\n",
    "    def __len__(self):\n",
    "        return len(self.data)\n",
    "\n",
    "    def __getitem__(self, idx):\n",
    "        text = self.data[idx]['text']\n",
    "        encoding = self.tokenizer(\n",
    "            text,\n",
    "            return_tensors='pt',\n",
    "            max_length=self.max_length,\n",
    "            padding='max_length',  # Дополнение до max_length\n",
    "            truncation=True\n",
    "        )\n",
    "        input_ids = encoding['input_ids'].squeeze(0)  # Убираем batch dimension\n",
    "        return input_ids\n",
    "\n",
    "train_dataset = WikiTextDataset(dataset['train'], tokenizer)\n",
    "train_loader = DataLoader(train_dataset, batch_size=8, shuffle=True)"
   ]
  },
  {
   "cell_type": "code",
   "execution_count": null,
   "id": "46be43a9-2f3a-4f35-b967-6be8c05d385f",
   "metadata": {},
   "outputs": [],
   "source": []
  },
  {
   "cell_type": "code",
   "execution_count": 19,
   "id": "922fae95-5988-4324-a2f9-12a554a91317",
   "metadata": {},
   "outputs": [],
   "source": [
    "class GLAAttention(nn.Module):\n",
    "    def __init__(self, hidden_dim=768, c=5):\n",
    "        super().__init__()\n",
    "        self.hidden_dim = hidden_dim\n",
    "        self.C = c\n",
    "        # Инициализация обучаемых параметров\n",
    "        self.Q = nn.Parameter(torch.Tensor(hidden_dim, hidden_dim))\n",
    "        self.K = nn.Parameter(torch.Tensor(hidden_dim, hidden_dim))\n",
    "        self.V = nn.Parameter(torch.Tensor(hidden_dim, hidden_dim))\n",
    "        self.W1 = nn.Parameter(torch.Tensor(hidden_dim, 16))\n",
    "        self.W2 = nn.Parameter(torch.Tensor(16, hidden_dim))\n",
    "        self.b = nn.Parameter(torch.Tensor(hidden_dim))\n",
    "        \n",
    "        # Инициализация параметров\n",
    "        nn.init.xavier_normal_(self.Q)\n",
    "        nn.init.xavier_normal_(self.K)\n",
    "        nn.init.xavier_normal_(self.V)\n",
    "        nn.init.xavier_normal_(self.W1)\n",
    "        nn.init.xavier_normal_(self.W2)\n",
    "        nn.init.zeros_(self.b)\n",
    "\n",
    "        \n",
    "\n",
    "        # Инициализация параметров\n",
    "        nn.init.xavier_normal_(self.Q)\n",
    "        nn.init.xavier_normal_(self.K)\n",
    "        nn.init.xavier_normal_(self.V)\n",
    "        self.S = torch.zeros(768, 768)\n",
    "        self.register_buffer('base_mask', torch.tril(torch.ones(c, c)))\n",
    "\n",
    "    def forward(self, x, layer_past=None, attention_mask=None, head_mask=None, \n",
    "                use_cache=False, output_attentions=False):\n",
    "        batch_size, seq_len, _ = x.shape\n",
    "        \n",
    "        # Проецирование входных данных\n",
    "        Q = torch.matmul(x, self.Q)  # [batch, seq, hidden]\n",
    "        K = torch.matmul(x, self.K)\n",
    "        V = torch.matmul(x, self.V)\n",
    "        \n",
    "        # Разделение на блоки\n",
    "        num_blocks = seq_len // self.C\n",
    "        remainder = seq_len % self.C\n",
    "        \n",
    "        # Основные блоки\n",
    "        S = torch.zeros(batch_size, self.hidden_dim, self.hidden_dim, \n",
    "                       device=x.device)\n",
    "        outputs = []\n",
    "        \n",
    "        for i in range(num_blocks):\n",
    "            start = i * self.C\n",
    "            end = (i+1) * self.C\n",
    "            \n",
    "            Q_block = Q[:, start:end]  # [batch, C, hidden]\n",
    "            K_block = K[:, start:end]\n",
    "            V_block = V[:, start:end]\n",
    "            K_block_T = K_block.transpose(-1, -2)  # [batch, hidden, C]\n",
    "\n",
    "            # Вычисление внимания\n",
    "            attn_scores = torch.matmul(Q_block, K_block_T)  # [batch, C, C]\n",
    "            attn_scores = attn_scores * self.base_mask\n",
    "            attn_scores = attn_scores / sqrt(self.hidden_dim)\n",
    "            \n",
    "            # Применение масок\n",
    "            if attention_mask is not None:\n",
    "                attn_scores += attention_mask[:, start:end, start:end]\n",
    "            \n",
    "            attn_weights = torch.softmax(attn_scores, dim=-1)\n",
    "            \n",
    "            # Обновление состояния\n",
    "            S_update = torch.matmul(K_block_T, V_block)  # [batch, hidden, hidden]\n",
    "            alpha = torch.matmul(x, self.W1)\n",
    "            alpha = torch.matmul(alpha, self.W2) + self.b  # [batch, seq, hidden]\n",
    "            alpha = torch.sigmoid(alpha) ** (1/16)  # Применение сигмоида и возведение в степень\n",
    "            alpha_avg = alpha.mean(dim=1, keepdim=True)  # [1,1,768]\n",
    "\n",
    "            # Создаём матрицу через повторение\n",
    "            alpha_matrix = alpha_avg.repeat_interleave(768, dim=1)  # [1,768,768]\n",
    "            S = S * alpha_matrix + S_update            \n",
    "            # Вычисление выхода\n",
    "            output = torch.matmul(Q_block, S) + torch.matmul(attn_weights, V_block)\n",
    "            outputs.append(output)\n",
    "        \n",
    "        # Обработка остатка\n",
    "        if remainder > 0:\n",
    "            start = num_blocks * self.C\n",
    "            Q_remain = Q[:, start:]  # [batch, rem, hidden]\n",
    "            K_remain = K[:, start:]\n",
    "            V_remain = V[:, start:]\n",
    "            \n",
    "            mask = torch.tril(torch.ones(remainder, remainder, device=x.device))\n",
    "            attn_scores = torch.matmul(Q_remain, K_remain.mT) * mask\n",
    "            attn_scores = attn_scores / sqrt(self.hidden_dim)\n",
    "            \n",
    "            if attention_mask is not None:\n",
    "                attn_scores += attention_mask[:, start:, start:]\n",
    "            \n",
    "            attn_weights = torch.softmax(attn_scores, dim=-1)\n",
    "            output = torch.matmul(Q_remain, S) + torch.matmul(attn_weights, V_remain)\n",
    "            outputs.append(output)\n",
    "        \n",
    "        # Сборка выходов\n",
    "        O = torch.cat(outputs, dim=1)\n",
    "        return (O,)\n",
    "        "
   ]
  },
  {
   "cell_type": "code",
   "execution_count": 20,
   "id": "a5292276-e1db-469f-91e8-423fb13cd0c3",
   "metadata": {},
   "outputs": [],
   "source": [
    "class GLAMLP(nn.Module):\n",
    "    def __init__(self, hidden_dim=768, c=5):\n",
    "        super().__init__()\n",
    "        self.Wr = nn.Linear(768, 768, bias = True)\n",
    "        self.Wo = nn.Linear(768, 768, bias = False)\n",
    "    def forward(self, x, o):\n",
    "        r = nn.SiLU()(self.Wr(x))\n",
    "        o = self.Wo(r*o)\n",
    "        return o"
   ]
  },
  {
   "cell_type": "code",
   "execution_count": null,
   "id": "4c2f44b2-24e9-497e-901b-c6f8f2f9f6ac",
   "metadata": {},
   "outputs": [],
   "source": [
    "class GLA(nn.Module):\n",
    "    def __init__(self, c=5):\n",
    "        super().__init__()\n",
    "        gpt2_lmhead = GPT2LMHeadModel.from_pretrained('gpt2')\n",
    "        self.lm_head = gpt2_lmhead.lm_head\n",
    "        self.config = gpt2_lmhead.config\n",
    "        self.wte = gpt2_lmhead.transformer.wte\n",
    "        self.wpe = gpt2_lmhead.transformer.wpe\n",
    "        self.drop = gpt2_lmhead.transformer.drop\n",
    "        self.ln_f = gpt2_lmhead.transformer.ln_f\n",
    "        \n",
    "        self.gpt2_layers = []\n",
    "        for i in range(12):\n",
    "            tmp = gpt2_lmhead.transformer.h[i]\n",
    "            tmp.attn = GLAAttention()\n",
    "            tmp.mlp = GLAMLP()\n",
    "            self.gpt2_layers.append(tmp)\n",
    "    def layers(self):\n",
    "        return self.gpt2_layers, self.config\n",
    "\n",
    "    def forward(self, X):\n",
    "        X_int =X\n",
    "        position_ids = torch.arange(0, X_int.shape[-1], dtype=torch.long)\n",
    "        position_ids = position_ids.unsqueeze(0)\n",
    "        X = self.wte(X_int)\n",
    "        X_p = self.wpe(position_ids)\n",
    "        X+=X_p\n",
    "        X = self.drop(X)\n",
    "        for el in self.gpt2_layers:\n",
    "            X_init = X\n",
    "            X = el.ln_1(X)\n",
    "            X = el.attn(X)\n",
    "            X = el.ln_2(X[0])\n",
    "            X = el.mlp(X_init, X)\n",
    "        X = self.ln_f(X)\n",
    "        X = self.lm_head(X)\n",
    "        argmax_indices = torch.argmax(X, dim=2)\n",
    "        return X,argmax_indices  "
   ]
  },
  {
   "cell_type": "code",
   "execution_count": null,
   "id": "3e7b732e-6791-49c8-81f5-d8e659e5270b",
   "metadata": {},
   "outputs": [],
   "source": [
    "model = GLA(5)\n",
    "logits, output = model(input_ids.int())\n",
    "generated_text = tokenizer.decode(output[0], skip_special_tokens=True)\n",
    "print(generated_text)\n",
    "print(logits)"
   ]
  },
  {
   "cell_type": "code",
   "execution_count": 38,
   "id": "226dac82-4019-4a6a-a715-bafda9ad4325",
   "metadata": {},
   "outputs": [
    {
     "name": "stdout",
     "output_type": "stream",
     "text": [
      "0\n",
      "torch.Size([8, 64])\n"
     ]
    },
    {
     "name": "stderr",
     "output_type": "stream",
     "text": [
      "\n",
      "KeyboardInterrupt\n",
      "\n"
     ]
    }
   ],
   "source": [
    "# Определение оптимизатора и функции потерь\n",
    "optimizer = AdamW(model.parameters(), lr=5e-5)\n",
    "scheduler = StepLR(optimizer, step_size=1, gamma=0.9)\n",
    "criterion = torch.nn.CrossEntropyLoss(reduction='mean', ignore_index = 50256)\n",
    "\n",
    "model.train()\n",
    "\n",
    "num_epochs = 3\n",
    "for epoch in range(num_epochs):\n",
    "    total_loss = 0\n",
    "    for batch_idx, input_ids in enumerate(train_loader):\n",
    "        print(batch_idx)\n",
    "        input_ids = input_ids\n",
    "\n",
    "        # Создание input и target\n",
    "        inputs = input_ids[:, :-1]  # Все токены, кроме последнего\n",
    "        targets = input_ids[:, 1:]  # Все токены, кроме первого\n",
    "\n",
    "        # Forward pass\n",
    "        logits, outputs = model(inputs)\n",
    "        # Вычисление потерь\n",
    "        loss = criterion(\n",
    "    logits.reshape(-1, logits.size(-1)),  # [8*63, 50257]\n",
    "    targets.reshape(-1)                   # [8*63]\n",
    ")\n",
    "        total_loss += loss.item()\n",
    "\n",
    "        # Backward pass\n",
    "        optimizer.zero_grad()\n",
    "        loss.backward()\n",
    "        optimizer.step()\n",
    "        scheduler.step()\n",
    "\n",
    "        print(f\"Epoch {epoch + 1}, Batch {batch_idx}, Loss: {loss.item()}\")\n",
    "\n",
    "    avg_loss = total_loss / len(train_loader)\n",
    "    print(f\"Epoch {epoch + 1}, Average Loss: {avg_loss}\")\n",
    "\n",
    "# Сохранение модели\n",
    "model.save_pretrained(\"./gpt2-wikitext\")\n",
    "tokenizer.save_pretrained(\"./gpt2-wikitext\")"
   ]
  },
  {
   "cell_type": "code",
   "execution_count": 40,
   "id": "3cf1f093-4d8b-43b5-a74e-2b84d5b7ef81",
   "metadata": {},
   "outputs": [],
   "source": []
  },
  {
   "cell_type": "code",
   "execution_count": 43,
   "id": "e86f47c8-acef-4772-83fa-be15bdbb7b2a",
   "metadata": {},
   "outputs": [],
   "source": [
    "torch.save(model.state_dict(), './models/model_weights.pth')\n"
   ]
  },
  {
   "cell_type": "code",
   "execution_count": null,
   "id": "ef4712ad-cb8b-42af-b812-f9089c62bb20",
   "metadata": {},
   "outputs": [],
   "source": []
  }
 ],
 "metadata": {
  "kernelspec": {
   "display_name": "Python 3",
   "language": "python",
   "name": "python3"
  },
  "language_info": {
   "codemirror_mode": {
    "name": "ipython",
    "version": 3
   },
   "file_extension": ".py",
   "mimetype": "text/x-python",
   "name": "python",
   "nbconvert_exporter": "python",
   "pygments_lexer": "ipython3",
   "version": "3.13.0"
  }
 },
 "nbformat": 4,
 "nbformat_minor": 5
}
